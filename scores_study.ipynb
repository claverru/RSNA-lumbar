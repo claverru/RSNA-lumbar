{
 "cells": [
  {
   "cell_type": "code",
   "execution_count": 1,
   "metadata": {},
   "outputs": [],
   "source": [
    "import numpy as np\n",
    "import pandas as pd\n",
    "\n",
    "from src import utils, competition_utils"
   ]
  },
  {
   "cell_type": "code",
   "execution_count": 2,
   "metadata": {},
   "outputs": [
    {
     "name": "stderr",
     "output_type": "stream",
     "text": [
      "/opt/conda/lib/python3.10/site-packages/sklearn/model_selection/_split.py:994: UserWarning: The least populated class in y has only 2 members, which is less than n_splits=5.\n",
      "  warnings.warn(\n"
     ]
    },
    {
     "name": "stdout",
     "output_type": "stream",
     "text": [
      "Train DataFrame: 1580\n",
      "Val DataFrame  : 394\n"
     ]
    }
   ],
   "source": [
    "whole_train = utils.load_train()\n",
    "np.random.seed(128)\n",
    "_, val = utils.split(whole_train, 5, 0)"
   ]
  },
  {
   "cell_type": "code",
   "execution_count": 3,
   "metadata": {},
   "outputs": [
    {
     "data": {
      "text/html": [
       "<div>\n",
       "<style scoped>\n",
       "    .dataframe tbody tr th:only-of-type {\n",
       "        vertical-align: middle;\n",
       "    }\n",
       "\n",
       "    .dataframe tbody tr th {\n",
       "        vertical-align: top;\n",
       "    }\n",
       "\n",
       "    .dataframe thead th {\n",
       "        text-align: right;\n",
       "    }\n",
       "</style>\n",
       "<table border=\"1\" class=\"dataframe\">\n",
       "  <thead>\n",
       "    <tr style=\"text-align: right;\">\n",
       "      <th></th>\n",
       "      <th>sample_weight</th>\n",
       "      <th>normal_mild</th>\n",
       "      <th>moderate</th>\n",
       "      <th>severe</th>\n",
       "      <th>row_id</th>\n",
       "    </tr>\n",
       "  </thead>\n",
       "  <tbody>\n",
       "    <tr>\n",
       "      <th>0</th>\n",
       "      <td>1</td>\n",
       "      <td>1</td>\n",
       "      <td>0</td>\n",
       "      <td>0</td>\n",
       "      <td>1004726367_left_neural_foraminal_narrowing_l1_l2</td>\n",
       "    </tr>\n",
       "    <tr>\n",
       "      <th>1</th>\n",
       "      <td>1</td>\n",
       "      <td>1</td>\n",
       "      <td>0</td>\n",
       "      <td>0</td>\n",
       "      <td>1004726367_left_neural_foraminal_narrowing_l2_l3</td>\n",
       "    </tr>\n",
       "    <tr>\n",
       "      <th>2</th>\n",
       "      <td>1</td>\n",
       "      <td>1</td>\n",
       "      <td>0</td>\n",
       "      <td>0</td>\n",
       "      <td>1004726367_left_neural_foraminal_narrowing_l3_l4</td>\n",
       "    </tr>\n",
       "    <tr>\n",
       "      <th>3</th>\n",
       "      <td>1</td>\n",
       "      <td>1</td>\n",
       "      <td>0</td>\n",
       "      <td>0</td>\n",
       "      <td>1004726367_left_neural_foraminal_narrowing_l4_l5</td>\n",
       "    </tr>\n",
       "    <tr>\n",
       "      <th>4</th>\n",
       "      <td>1</td>\n",
       "      <td>1</td>\n",
       "      <td>0</td>\n",
       "      <td>0</td>\n",
       "      <td>1004726367_left_neural_foraminal_narrowing_l5_s1</td>\n",
       "    </tr>\n",
       "  </tbody>\n",
       "</table>\n",
       "</div>"
      ],
      "text/plain": [
       "   sample_weight  normal_mild  moderate  severe  \\\n",
       "0              1            1         0       0   \n",
       "1              1            1         0       0   \n",
       "2              1            1         0       0   \n",
       "3              1            1         0       0   \n",
       "4              1            1         0       0   \n",
       "\n",
       "                                             row_id  \n",
       "0  1004726367_left_neural_foraminal_narrowing_l1_l2  \n",
       "1  1004726367_left_neural_foraminal_narrowing_l2_l3  \n",
       "2  1004726367_left_neural_foraminal_narrowing_l3_l4  \n",
       "3  1004726367_left_neural_foraminal_narrowing_l4_l5  \n",
       "4  1004726367_left_neural_foraminal_narrowing_l5_s1  "
      ]
     },
     "execution_count": 3,
     "metadata": {},
     "output_type": "execute_result"
    }
   ],
   "source": [
    "solution = competition_utils.train2solution(val)\n",
    "solution.head()"
   ]
  },
  {
   "cell_type": "code",
   "execution_count": 4,
   "metadata": {},
   "outputs": [],
   "source": [
    "preds = pd.read_parquet(\"lightning_logs/version_0/preds.parquet\")\n",
    "\n",
    "\n",
    "submission = competition_utils.studypreds2submission(preds)\n",
    "submission.head()\n",
    "\n",
    "submission = submission[submission[\"row_id\"].isin(solution[\"row_id\"])].reset_index(drop=True)"
   ]
  },
  {
   "cell_type": "code",
   "execution_count": 5,
   "metadata": {},
   "outputs": [
    {
     "name": "stdout",
     "output_type": "stream",
     "text": [
      "{'spinal': 0.2626580915185289, 'foraminal': 0.5395281383886228, 'subarticular': 0.5909078796823697, 'any_severe_spinal': 0.25560030876348705}\n",
      "0.41217360458825214\n"
     ]
    }
   ],
   "source": [
    "result = competition_utils.score(solution.copy(), submission.copy())\n",
    "print(result)\n",
    "print(sum(result.values()) / len(result))"
   ]
  }
 ],
 "metadata": {
  "kernelspec": {
   "display_name": "base",
   "language": "python",
   "name": "python3"
  },
  "language_info": {
   "codemirror_mode": {
    "name": "ipython",
    "version": 3
   },
   "file_extension": ".py",
   "mimetype": "text/x-python",
   "name": "python",
   "nbconvert_exporter": "python",
   "pygments_lexer": "ipython3",
   "version": "3.10.14"
  }
 },
 "nbformat": 4,
 "nbformat_minor": 2
}
